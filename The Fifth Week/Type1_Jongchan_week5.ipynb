{
  "cells": [
    {
      "metadata": {
        "collapsed": true
      },
      "cell_type": "markdown",
      "source": "### 6.1"
    },
    {
      "metadata": {
        "trusted": true
      },
      "cell_type": "code",
      "source": "#결과가 저장될 리스트, 단수가 저장될 n변수, 단수에 순서대로 곱할 변수 i가 필요\n\ndef GuGu(n):\n    result = []\n    i = 1\n    while i<10:\n        result.append(n*i)\n        i += 1\n    return result",
      "execution_count": 21,
      "outputs": []
    },
    {
      "metadata": {},
      "cell_type": "markdown",
      "source": "### 6.2"
    },
    {
      "metadata": {
        "trusted": true
      },
      "cell_type": "code",
      "source": "#결과값이 저장될 result 변수, 1~999의 숫자가 저장될 n 변수가 필요\n\nresult = 0\nfor n in range(1, 1000):\n    if n%3 == 0 or n %5 == 0:\n        result += n\nprint(result)\n\n# if n%3 == 0:\n#  result += n\n# if n%5 == 0:\n#  result += n",
      "execution_count": 22,
      "outputs": [
        {
          "output_type": "stream",
          "text": "233168\n",
          "name": "stdout"
        }
      ]
    },
    {
      "metadata": {},
      "cell_type": "markdown",
      "source": "### 6.3"
    },
    {
      "metadata": {
        "trusted": true
      },
      "cell_type": "code",
      "source": "import math\n\ndef getTotalPage(m, n):\n    return math.ceil(m / n)\n\nprint(getTotalPage(20, 10))\nprint(getTotalPage(25, 10))",
      "execution_count": 23,
      "outputs": [
        {
          "output_type": "stream",
          "text": "2\n3\n",
          "name": "stdout"
        }
      ]
    },
    {
      "metadata": {},
      "cell_type": "markdown",
      "source": "### 6.4"
    },
    {
      "metadata": {
        "trusted": true
      },
      "cell_type": "code",
      "source": "import os \nos.getcwd()\n",
      "execution_count": 24,
      "outputs": [
        {
          "output_type": "execute_result",
          "execution_count": 24,
          "data": {
            "text/plain": "'/home/nbuser/library'"
          },
          "metadata": {}
        }
      ]
    },
    {
      "metadata": {
        "trusted": true
      },
      "cell_type": "code",
      "source": "import sys\n\noption = sys.argv[1]\n\nif option == '-a':\n    memo = sys.argv[2]\n    f = open('memo.txt', 'a')\n    f.write(memo)\n    f.write('\\n')\n    f.close()\nelif option == '-v':\n    f = open('memo.txt')\n    memo = f.read()\n    f.close()\n    print(memo)",
      "execution_count": 25,
      "outputs": []
    },
    {
      "metadata": {},
      "cell_type": "markdown",
      "source": "### 6.5"
    },
    {
      "metadata": {
        "trusted": true
      },
      "cell_type": "code",
      "source": "import sys\nsrc = sys.argv[1]\ndst = sys.argv[2]\nprint(src)\nprint(dst)\nprint(sys.argv)",
      "execution_count": 26,
      "outputs": [
        {
          "output_type": "stream",
          "text": "-f\n/home/nbuser/.local/share/jupyter/runtime/kernel-ebf43c5d-dd17-4d63-bdc6-426d3ec2dfd0.json\n['/home/nbuser/anaconda3_501/lib/python3.6/site-packages/ipykernel/__main__.py', '-f', '/home/nbuser/.local/share/jupyter/runtime/kernel-ebf43c5d-dd17-4d63-bdc6-426d3ec2dfd0.json']\n",
          "name": "stdout"
        }
      ]
    },
    {
      "metadata": {
        "trusted": true
      },
      "cell_type": "code",
      "source": "f = open('/home/nbuser/anaconda3_501/lib/python3.6/site-packages/ipykernel/__main__.py')\ntab_content = f.read()\nf.close()",
      "execution_count": 28,
      "outputs": []
    },
    {
      "metadata": {
        "trusted": true
      },
      "cell_type": "code",
      "source": "tab_content",
      "execution_count": 29,
      "outputs": [
        {
          "output_type": "execute_result",
          "execution_count": 29,
          "data": {
            "text/plain": "\"if __name__ == '__main__':\\n    from ipykernel import kernelapp as app\\n    app.launch_new_instance()\\n\""
          },
          "metadata": {}
        }
      ]
    },
    {
      "metadata": {
        "trusted": true
      },
      "cell_type": "code",
      "source": "space_content = tab_content.replace('\\tasdfasdf', ' '*4)\nf = open(dst, 'w')\nf.write(space_content)\nf.close()",
      "execution_count": 32,
      "outputs": []
    },
    {
      "metadata": {
        "trusted": true
      },
      "cell_type": "code",
      "source": "space_content",
      "execution_count": 33,
      "outputs": [
        {
          "output_type": "execute_result",
          "execution_count": 33,
          "data": {
            "text/plain": "\"if __name__ == '__main__':\\n    from ipykernel import kernelapp as app\\n    app.launch_new_instance()\\n\""
          },
          "metadata": {}
        }
      ]
    },
    {
      "metadata": {},
      "cell_type": "markdown",
      "source": "### 6.6"
    },
    {
      "metadata": {
        "trusted": true
      },
      "cell_type": "code",
      "source": "import os\n\ndef search(dirname):\n    try:\n        filenames = os.listdir(dirname)\n        for filename in filenames:\n            full_filename = os.path.join(dirname, filename)\n            if os.path.isdir(full_filename):\n                search(full_filename)\n        else :\n            ext = os.path.splitext(full_filename)[-1]\n            if ext == '.py':\n                print(full_filename)\n    except PermissionError:\n        pass\n    \nsearch(\"/home/nbuser/library\")",
      "execution_count": 13,
      "outputs": []
    },
    {
      "metadata": {
        "trusted": true
      },
      "cell_type": "code",
      "source": "",
      "execution_count": null,
      "outputs": []
    }
  ],
  "metadata": {
    "kernelspec": {
      "name": "python36",
      "display_name": "Python 3.6",
      "language": "python"
    },
    "language_info": {
      "mimetype": "text/x-python",
      "nbconvert_exporter": "python",
      "name": "python",
      "pygments_lexer": "ipython3",
      "version": "3.6.6",
      "file_extension": ".py",
      "codemirror_mode": {
        "version": 3,
        "name": "ipython"
      }
    }
  },
  "nbformat": 4,
  "nbformat_minor": 2
}