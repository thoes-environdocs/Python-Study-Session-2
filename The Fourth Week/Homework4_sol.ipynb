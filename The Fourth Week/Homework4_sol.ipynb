{
  "cells": [
    {
      "metadata": {
        "trusted": true
      },
      "cell_type": "code",
      "source": "# 1. 정수 -> 실수 (오타)\nimport numpy as np\nlist_data = np.linspace(0, 25, 21)\n",
      "execution_count": 1,
      "outputs": []
    },
    {
      "metadata": {
        "trusted": true
      },
      "cell_type": "code",
      "source": "#2. 반올림하기\nlist_data = np.round(list_data)\n",
      "execution_count": 2,
      "outputs": []
    },
    {
      "metadata": {
        "trusted": true
      },
      "cell_type": "code",
      "source": "#3. 어떤 실수 두 숫자 사이\ndef btw_two(num, list_data):\n    for i, content in enumerate(list_data):\n        if i != len(list_data):\n            if list_data[i] <= num < list_data[i+1]:\n                front = np.round(list_data[i])\n                back = np.round(list_data[i+1])\n        else: pass\n    return front, back",
      "execution_count": 3,
      "outputs": []
    },
    {
      "metadata": {
        "trusted": true
      },
      "cell_type": "code",
      "source": "#4. 큰것을 Max(1) 작은 것을 Min(0)\nnum = 8.1\nfront, back = btw_two(num, list_data)\ndef MinMaxScaler(num, min_val, max_val):\n    scale = (num - min_val)/(max_val - min_val)\n    return scale\n\nprint(MinMaxScaler(num, front, back))",
      "execution_count": 4,
      "outputs": [
        {
          "output_type": "stream",
          "text": "0.09999999999999964\n",
          "name": "stdout"
        }
      ]
    },
    {
      "metadata": {
        "trusted": true
      },
      "cell_type": "code",
      "source": "#5. 어디로 가야하나?\ndef which_num(num, list_data):\n    front, back = btw_two(num, list_data) ## 2의 함수\n    if np.round(MinMaxScaler(num, front, back)) == 0: ## 3의 함수\n        return front\n    else:\n        return back",
      "execution_count": 5,
      "outputs": []
    },
    {
      "metadata": {
        "trusted": true
      },
      "cell_type": "code",
      "source": "#6. 8.1은 어디로 가야하나?\nprint(which_num(8.1, list_data))\n",
      "execution_count": 6,
      "outputs": [
        {
          "output_type": "stream",
          "text": "8.0\n",
          "name": "stdout"
        }
      ]
    },
    {
      "metadata": {
        "trusted": true
      },
      "cell_type": "code",
      "source": "#7. a, b 숫자 범위, n개의 정수간격, num의 실수 어디로 변환?\ndef exchange_num(a, b, n, num):\n    list_data = np.linspace(a, b, n)\n    answer = which_num(num, list_data) #5의 함수 \n    return answer\n",
      "execution_count": 7,
      "outputs": []
    },
    {
      "metadata": {
        "trusted": true
      },
      "cell_type": "code",
      "source": "#8. 색깔을 매치 시켜 보시오 a<num<b\ncolor=[\"#ff0000\",\"#ff0803\",\"#ff0f05\",\"#ff1708\",\"#ff1f0a\",\"#ff260d\",\n       \"#ff2e0f\",\"#ff3612\",\"#ff3d14\",\"#ff4517\",\"#ff4c1a\",\"#ff541c\",\n       \"#ff5c1f\",\"#ff6321\",\"#ff6b24\",\"#ff7326\",\"#ff7a29\",\"#ff822b\",\n       \"#ff8a2e\",\"#ff9130\",\"#ff9933\"]\n\ndef which_color(a, b, n, num, color):\n    return color[int(exchange_num(a, b, n, num))]\n    \n",
      "execution_count": 8,
      "outputs": []
    },
    {
      "metadata": {
        "trusted": true
      },
      "cell_type": "code",
      "source": "#9. nan채우기\nlist_data = [1, 'nan', 2, 'nan', 'nan', 7, 9, 'nan', 12, 'nan', 'nan', 20]\n\nnum_index = []\nstring_index = []\nfor i in range(len(list_data)):\n    if type(list_data[i]) == str:\n        string_index.append(i)\n    else:\n        num_index.append(i)\n",
      "execution_count": 9,
      "outputs": []
    },
    {
      "metadata": {
        "trusted": true
      },
      "cell_type": "code",
      "source": "\nfor i in range(len(num_index)):\n    for j in range(len(string_index)):\n        if num_index[i] < string_index[j] < num_index[i+1]:\n            # 등차 수열의 합\n            list_data[string_index[j]] = list_data[num_index[i]] + (list_data[num_index[i+1]] - list_data[num_index[i]])/(num_index[i+1] - num_index[i]) * (string_index[j] - num_index[i])\n\n            \n# 그냥 넣은거 \nprint(list_data)\n# 반올림 해서 넣은것\nprint(np.round(list_data, 2))",
      "execution_count": 10,
      "outputs": [
        {
          "output_type": "stream",
          "text": "[1, 1.5, 2, 3.666666666666667, 5.333333333333334, 7, 9, 10.5, 12, 14.666666666666666, 17.333333333333332, 20]\n[ 1.    1.5   2.    3.67  5.33  7.    9.   10.5  12.   14.67 17.33 20.  ]\n",
          "name": "stdout"
        }
      ]
    },
    {
      "metadata": {
        "trusted": true
      },
      "cell_type": "code",
      "source": "",
      "execution_count": null,
      "outputs": []
    }
  ],
  "metadata": {
    "kernelspec": {
      "name": "python36",
      "display_name": "Python 3.6",
      "language": "python"
    },
    "language_info": {
      "mimetype": "text/x-python",
      "nbconvert_exporter": "python",
      "name": "python",
      "pygments_lexer": "ipython3",
      "version": "3.6.6",
      "file_extension": ".py",
      "codemirror_mode": {
        "version": 3,
        "name": "ipython"
      }
    }
  },
  "nbformat": 4,
  "nbformat_minor": 2
}