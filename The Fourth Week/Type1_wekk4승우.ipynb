{
  "cells": [
    {
      "metadata": {
        "trusted": true
      },
      "cell_type": "code",
      "source": "class Cat:\n    def meow(self):\n        print(\"야옹\")\nclass Dog:\n    def bow(self):\n        print(\"멍멍\")\ncat1 = Cat()\ncat2 = Cat()\n\ncat1.meow()\ncat2.meow()\n\ndog1 = Dog()\ndog1.bow()",
      "execution_count": 1,
      "outputs": [
        {
          "output_type": "stream",
          "text": "야옹\n야옹\n멍멍\n",
          "name": "stdout"
        }
      ]
    },
    {
      "metadata": {
        "trusted": true
      },
      "cell_type": "code",
      "source": "class FourCal:\n    def setdata(self,first,second):\n        self.first = first\n        self.second = second",
      "execution_count": 2,
      "outputs": []
    },
    {
      "metadata": {
        "trusted": true
      },
      "cell_type": "code",
      "source": "a = FourCal()\na.setdata(4,2)",
      "execution_count": 3,
      "outputs": []
    },
    {
      "metadata": {
        "trusted": true
      },
      "cell_type": "code",
      "source": "class FourCal:\n    def setdata(self,first,second):\n            self.first = first\n            self.second = second\n    def add(self): \n        result = self.first + self.second\n        return result\n    def sub(self):\n        result = self.first - self.second\n        return result\n    def mul(self):\n        result = self.first * self.second\n        return result\n    def div(self):\n        result = self.first / self.second\n        return result\n    \na = FourCal()  ## 객체 a 생성.\n\na.setdata(3,8) ## 객체a의 setdata메소드호출",
      "execution_count": 4,
      "outputs": []
    },
    {
      "metadata": {
        "trusted": true
      },
      "cell_type": "code",
      "source": "a.add()          ## 객체a의 add메소드호출\n## 11",
      "execution_count": 5,
      "outputs": [
        {
          "output_type": "execute_result",
          "execution_count": 5,
          "data": {
            "text/plain": "11"
          },
          "metadata": {}
        }
      ]
    },
    {
      "metadata": {
        "trusted": true
      },
      "cell_type": "code",
      "source": "a.mul()         ## 객체a의 mul메소드호출        \n## 24",
      "execution_count": 6,
      "outputs": [
        {
          "output_type": "execute_result",
          "execution_count": 6,
          "data": {
            "text/plain": "24"
          },
          "metadata": {}
        }
      ]
    },
    {
      "metadata": {
        "trusted": true
      },
      "cell_type": "code",
      "source": "a.sub()         ## 객체a의 sub메소드호출 \n##-5",
      "execution_count": 7,
      "outputs": [
        {
          "output_type": "execute_result",
          "execution_count": 7,
          "data": {
            "text/plain": "-5"
          },
          "metadata": {}
        }
      ]
    },
    {
      "metadata": {
        "trusted": true
      },
      "cell_type": "code",
      "source": "a.div()         ## 객체a의 div메소드호출\n##0.375",
      "execution_count": 8,
      "outputs": [
        {
          "output_type": "execute_result",
          "execution_count": 8,
          "data": {
            "text/plain": "0.375"
          },
          "metadata": {}
        }
      ]
    },
    {
      "metadata": {
        "trusted": true
      },
      "cell_type": "code",
      "source": "class MyClass:   ## 클래스 정의\n\n    def __init__(self,value):  ##  생성자 메소드   >>>  형태 :  def__init__(self,가변인자)\n        self.Value = value   ##  멤버변수 초기화\n        print(\"클래스가 생성되었습니다. 값 = \", value)\n        \nc = MyClass(10) ##  생성자 메소드를 호출",
      "execution_count": 9,
      "outputs": [
        {
          "output_type": "stream",
          "text": "클래스가 생성되었습니다. 값 =  10\n",
          "name": "stdout"
        }
      ]
    },
    {
      "metadata": {
        "trusted": true
      },
      "cell_type": "code",
      "source": "class FourCal:\n    def __init__(self,first,second) :\n        self.first = first\n        self.second = second\n    def setdata(self,first,second):\n            self.first = first\n            self.second = second\n    def add(self): \n        result = self.first + self.second\n        return result\n    def sub(self):\n        result = self.first - self.second\n        return result\n    def mul(self):\n        result = self.first * self.second\n        return result\n    def div(self):\n        result = self.first / self.second\n        return result",
      "execution_count": 10,
      "outputs": []
    },
    {
      "metadata": {
        "trusted": true
      },
      "cell_type": "code",
      "source": "a = FourCal(4,2)  ## 객체 생성과 동시에 매개변수 값 전달.\n\nprint(a.first)\n## 결과 : 4",
      "execution_count": 11,
      "outputs": [
        {
          "output_type": "stream",
          "text": "4\n",
          "name": "stdout"
        }
      ]
    },
    {
      "metadata": {
        "trusted": true
      },
      "cell_type": "code",
      "source": "print(a.second)\n## 결과 : 2",
      "execution_count": 12,
      "outputs": [
        {
          "output_type": "stream",
          "text": "2\n",
          "name": "stdout"
        }
      ]
    },
    {
      "metadata": {
        "trusted": true
      },
      "cell_type": "code",
      "source": "class MoreFourCal(FourCal):\n    def pow(self):\n        result = self.first**self.second ## **은 제곱\n        return result\n\na = MoreFourCal(4,2)\na.pow()       ## 결과 : 16",
      "execution_count": 13,
      "outputs": [
        {
          "output_type": "execute_result",
          "execution_count": 13,
          "data": {
            "text/plain": "16"
          },
          "metadata": {}
        }
      ]
    },
    {
      "metadata": {
        "trusted": true
      },
      "cell_type": "code",
      "source": "a = FourCal(4,0)\na.div() ## 오류발생",
      "execution_count": 14,
      "outputs": [
        {
          "output_type": "error",
          "ename": "ZeroDivisionError",
          "evalue": "division by zero",
          "traceback": [
            "\u001b[0;31m---------------------------------------------------------------------------\u001b[0m",
            "\u001b[0;31mZeroDivisionError\u001b[0m                         Traceback (most recent call last)",
            "\u001b[0;32m<ipython-input-14-59184ed869f1>\u001b[0m in \u001b[0;36m<module>\u001b[0;34m\u001b[0m\n\u001b[1;32m      1\u001b[0m \u001b[0ma\u001b[0m \u001b[0;34m=\u001b[0m \u001b[0mFourCal\u001b[0m\u001b[0;34m(\u001b[0m\u001b[0;36m4\u001b[0m\u001b[0;34m,\u001b[0m\u001b[0;36m0\u001b[0m\u001b[0;34m)\u001b[0m\u001b[0;34m\u001b[0m\u001b[0m\n\u001b[0;32m----> 2\u001b[0;31m \u001b[0ma\u001b[0m\u001b[0;34m.\u001b[0m\u001b[0mdiv\u001b[0m\u001b[0;34m(\u001b[0m\u001b[0;34m)\u001b[0m \u001b[0;31m## 오류발생\u001b[0m\u001b[0;34m\u001b[0m\u001b[0m\n\u001b[0m",
            "\u001b[0;32m<ipython-input-10-d2c65234e57d>\u001b[0m in \u001b[0;36mdiv\u001b[0;34m(self)\u001b[0m\n\u001b[1;32m     16\u001b[0m         \u001b[0;32mreturn\u001b[0m \u001b[0mresult\u001b[0m\u001b[0;34m\u001b[0m\u001b[0m\n\u001b[1;32m     17\u001b[0m     \u001b[0;32mdef\u001b[0m \u001b[0mdiv\u001b[0m\u001b[0;34m(\u001b[0m\u001b[0mself\u001b[0m\u001b[0;34m)\u001b[0m\u001b[0;34m:\u001b[0m\u001b[0;34m\u001b[0m\u001b[0m\n\u001b[0;32m---> 18\u001b[0;31m         \u001b[0mresult\u001b[0m \u001b[0;34m=\u001b[0m \u001b[0mself\u001b[0m\u001b[0;34m.\u001b[0m\u001b[0mfirst\u001b[0m \u001b[0;34m/\u001b[0m \u001b[0mself\u001b[0m\u001b[0;34m.\u001b[0m\u001b[0msecond\u001b[0m\u001b[0;34m\u001b[0m\u001b[0m\n\u001b[0m\u001b[1;32m     19\u001b[0m         \u001b[0;32mreturn\u001b[0m \u001b[0mresult\u001b[0m\u001b[0;34m\u001b[0m\u001b[0m\n",
            "\u001b[0;31mZeroDivisionError\u001b[0m: division by zero"
          ]
        }
      ]
    },
    {
      "metadata": {
        "trusted": true
      },
      "cell_type": "code",
      "source": "## 메소드 오버라이딩(Overriding) div 메소드 수정.\nclass SafeFourCal(FourCal):\n        def div(self):\n            if self.second == 0:\n                print(\"오류발생! 0으로 나눌 수 없습니다.\")\n            else:\n                return self.first / self.second\n\na = SafeFourCal(4,0)\na.div()\n## 0",
      "execution_count": 15,
      "outputs": [
        {
          "output_type": "stream",
          "text": "오류발생! 0으로 나눌 수 없습니다.\n",
          "name": "stdout"
        }
      ]
    },
    {
      "metadata": {
        "trusted": true
      },
      "cell_type": "code",
      "source": "class Family:\n     lastname = \"김\" ## 클래스 변수\n\nprint(Family.lastname) ## 김\n\na = Family()\nb = Family()\nprint(a.lastname) ## 김\nprint(b.lastname) ## 김",
      "execution_count": 16,
      "outputs": [
        {
          "output_type": "stream",
          "text": "김\n김\n김\n",
          "name": "stdout"
        }
      ]
    },
    {
      "metadata": {
        "trusted": true
      },
      "cell_type": "code",
      "source": "Family.lastname = \"박\"  ## 클래스 변수를 변경.\n\nprint(a.lastname)\n## 박\nprint(b.lastname)\n## 박\n\nprint(id(Family.lastname))\nprint(id(a.lastname))\nprint(id(b.lastname))\n## 모두 같은 메모리를 가르킨다.",
      "execution_count": 17,
      "outputs": [
        {
          "output_type": "stream",
          "text": "박\n박\n140333521245728\n140333521245728\n140333521245728\n",
          "name": "stdout"
        }
      ]
    },
    {
      "metadata": {
        "trusted": true
      },
      "cell_type": "code",
      "source": "class FourCal:\n    def setdata(self,first):\n        self.first = first",
      "execution_count": 18,
      "outputs": []
    },
    {
      "metadata": {
        "trusted": true
      },
      "cell_type": "code",
      "source": "a = FourCal()\nb = FourCal()",
      "execution_count": 19,
      "outputs": []
    },
    {
      "metadata": {
        "trusted": true
      },
      "cell_type": "code",
      "source": "a.setdata(4) ## self.first = 4 , a.first = 4\nb.setdata(3) ## self.first = 3 , b.first = 7\n## 같은이름의 객체변수 first 여도 a.first와 b.first는 다른 객체의 객체변수에\n## 상관없이 독립적인 값을 유지한다.",
      "execution_count": 20,
      "outputs": []
    },
    {
      "metadata": {
        "trusted": true
      },
      "cell_type": "code",
      "source": "print(a.first)",
      "execution_count": 21,
      "outputs": [
        {
          "output_type": "stream",
          "text": "4\n",
          "name": "stdout"
        }
      ]
    },
    {
      "metadata": {
        "trusted": true
      },
      "cell_type": "code",
      "source": "print(b.first)",
      "execution_count": 22,
      "outputs": [
        {
          "output_type": "stream",
          "text": "3\n",
          "name": "stdout"
        }
      ]
    },
    {
      "metadata": {
        "trusted": true
      },
      "cell_type": "code",
      "source": "## 이름을 가진 로봇을 만들어보자.\n\nclass Robot:\n    population = 0 ## 로봇의 수를 카운팅 , 클래스에 속해있는 클래스변수\n    \n    def __init__(self,name):\n        self.name = name ## 객체변수\n        Robot.population += 1\n        print(\"%d호 로봇의 이름은 \"%Robot.population,name)       ",
      "execution_count": 23,
      "outputs": []
    },
    {
      "metadata": {
        "trusted": true,
        "scrolled": true
      },
      "cell_type": "code",
      "source": "a = Robot(\"Mary\")\nb = Robot(\"Jane\")",
      "execution_count": 24,
      "outputs": [
        {
          "output_type": "stream",
          "text": "1호 로봇의 이름은  Mary\n2호 로봇의 이름은  Jane\n",
          "name": "stdout"
        }
      ]
    },
    {
      "metadata": {
        "trusted": true
      },
      "cell_type": "code",
      "source": "import sys\nsys.path.append('/home/nbuser/library/')",
      "execution_count": 25,
      "outputs": []
    },
    {
      "metadata": {
        "trusted": true
      },
      "cell_type": "code",
      "source": "import module",
      "execution_count": 26,
      "outputs": []
    },
    {
      "metadata": {
        "trusted": true
      },
      "cell_type": "code",
      "source": "module.add(1,2)",
      "execution_count": 27,
      "outputs": [
        {
          "output_type": "execute_result",
          "execution_count": 27,
          "data": {
            "text/plain": "3"
          },
          "metadata": {}
        }
      ]
    },
    {
      "metadata": {
        "trusted": true
      },
      "cell_type": "code",
      "source": "import mod2",
      "execution_count": 28,
      "outputs": []
    },
    {
      "metadata": {
        "trusted": true
      },
      "cell_type": "code",
      "source": "print(mod2.PI)",
      "execution_count": 29,
      "outputs": [
        {
          "output_type": "stream",
          "text": "3.141592\n",
          "name": "stdout"
        }
      ]
    },
    {
      "metadata": {
        "trusted": true
      },
      "cell_type": "code",
      "source": "a=mod2.Math()\nprint(a.solv(2))",
      "execution_count": 30,
      "outputs": [
        {
          "output_type": "stream",
          "text": "12.566368\n",
          "name": "stdout"
        }
      ]
    },
    {
      "metadata": {
        "trusted": true
      },
      "cell_type": "code",
      "source": "print(mod2.add(mod2.PI,4.4))",
      "execution_count": 31,
      "outputs": [
        {
          "output_type": "stream",
          "text": "7.5415920000000005\n",
          "name": "stdout"
        }
      ]
    },
    {
      "metadata": {
        "trusted": true
      },
      "cell_type": "code",
      "source": "from module import*\nadd(3,4)",
      "execution_count": 32,
      "outputs": [
        {
          "output_type": "execute_result",
          "execution_count": 32,
          "data": {
            "text/plain": "7"
          },
          "metadata": {}
        }
      ]
    },
    {
      "metadata": {
        "trusted": true
      },
      "cell_type": "code",
      "source": "import uos.dep_ece.ece",
      "execution_count": 33,
      "outputs": []
    },
    {
      "metadata": {
        "trusted": true
      },
      "cell_type": "code",
      "source": "uos.dep_ece.ece.ece_test()",
      "execution_count": 34,
      "outputs": [
        {
          "output_type": "stream",
          "text": "Electrical & Computer Engineering\n",
          "name": "stdout"
        }
      ]
    },
    {
      "metadata": {
        "trusted": true
      },
      "cell_type": "code",
      "source": "from uos.dep_env.env import env_test",
      "execution_count": 35,
      "outputs": []
    },
    {
      "metadata": {
        "trusted": true
      },
      "cell_type": "code",
      "source": "env_test()",
      "execution_count": 36,
      "outputs": [
        {
          "output_type": "stream",
          "text": "Environmental Engineering\n",
          "name": "stdout"
        }
      ]
    },
    {
      "metadata": {
        "trusted": true
      },
      "cell_type": "code",
      "source": "uos.dep_ua.ua.ua_test()\n## import game을 수행하면 game 디렉터리의 모듈 또는 \n## game 디렉터리의 __init__.py에 정의한 것만 참조할 수 있다.",
      "execution_count": 37,
      "outputs": [
        {
          "output_type": "error",
          "ename": "AttributeError",
          "evalue": "module 'uos' has no attribute 'dep_ua'",
          "traceback": [
            "\u001b[0;31m---------------------------------------------------------------------------\u001b[0m",
            "\u001b[0;31mAttributeError\u001b[0m                            Traceback (most recent call last)",
            "\u001b[0;32m<ipython-input-37-174358e8c61c>\u001b[0m in \u001b[0;36m<module>\u001b[0;34m\u001b[0m\n\u001b[0;32m----> 1\u001b[0;31m \u001b[0muos\u001b[0m\u001b[0;34m.\u001b[0m\u001b[0mdep_ua\u001b[0m\u001b[0;34m.\u001b[0m\u001b[0mua\u001b[0m\u001b[0;34m.\u001b[0m\u001b[0mua_test\u001b[0m\u001b[0;34m(\u001b[0m\u001b[0;34m)\u001b[0m\u001b[0;34m\u001b[0m\u001b[0m\n\u001b[0m\u001b[1;32m      2\u001b[0m \u001b[0;31m## import game을 수행하면 game 디렉터리의 모듈 또는\u001b[0m\u001b[0;34m\u001b[0m\u001b[0;34m\u001b[0m\u001b[0m\n\u001b[1;32m      3\u001b[0m \u001b[0;31m## game 디렉터리의 __init__.py에 정의한 것만 참조할 수 있다.\u001b[0m\u001b[0;34m\u001b[0m\u001b[0;34m\u001b[0m\u001b[0m\n",
            "\u001b[0;31mAttributeError\u001b[0m: module 'uos' has no attribute 'dep_ua'"
          ]
        }
      ]
    },
    {
      "metadata": {
        "trusted": true
      },
      "cell_type": "code",
      "source": "import uos.dep_ua.ua.ua_test\n## 도트 연산자(.)를 사용해서 import a.b.c처럼 import할 때 \n## 가장 마지막 항목인 c는 반드시 모듈 또는 패키지여야만 한다.",
      "execution_count": 38,
      "outputs": [
        {
          "output_type": "error",
          "ename": "ModuleNotFoundError",
          "evalue": "No module named 'uos.dep_ua.ua.ua_test'; 'uos.dep_ua.ua' is not a package",
          "traceback": [
            "\u001b[0;31m---------------------------------------------------------------------------\u001b[0m",
            "\u001b[0;31mModuleNotFoundError\u001b[0m                       Traceback (most recent call last)",
            "\u001b[0;32m<ipython-input-38-c127d0743331>\u001b[0m in \u001b[0;36m<module>\u001b[0;34m\u001b[0m\n\u001b[0;32m----> 1\u001b[0;31m \u001b[0;32mimport\u001b[0m \u001b[0muos\u001b[0m\u001b[0;34m.\u001b[0m\u001b[0mdep_ua\u001b[0m\u001b[0;34m.\u001b[0m\u001b[0mua\u001b[0m\u001b[0;34m.\u001b[0m\u001b[0mua_test\u001b[0m\u001b[0;34m\u001b[0m\u001b[0m\n\u001b[0m\u001b[1;32m      2\u001b[0m \u001b[0;31m## 도트 연산자(.)를 사용해서 import a.b.c처럼 import할 때\u001b[0m\u001b[0;34m\u001b[0m\u001b[0;34m\u001b[0m\u001b[0m\n\u001b[1;32m      3\u001b[0m \u001b[0;31m## 가장 마지막 항목인 c는 반드시 모듈 또는 패키지여야만 한다.\u001b[0m\u001b[0;34m\u001b[0m\u001b[0;34m\u001b[0m\u001b[0m\n",
            "\u001b[0;31mModuleNotFoundError\u001b[0m: No module named 'uos.dep_ua.ua.ua_test'; 'uos.dep_ua.ua' is not a package"
          ]
        }
      ]
    },
    {
      "metadata": {
        "trusted": true
      },
      "cell_type": "code",
      "source": "from uos.dep_ua import*",
      "execution_count": 39,
      "outputs": []
    },
    {
      "metadata": {
        "trusted": true
      },
      "cell_type": "code",
      "source": "ua.ua_test()",
      "execution_count": 40,
      "outputs": [
        {
          "output_type": "stream",
          "text": "Urban Administration\n",
          "name": "stdout"
        }
      ]
    },
    {
      "metadata": {
        "trusted": true
      },
      "cell_type": "code",
      "source": "## 특정 디렉터리의 모듈을 * 을 사용하여 import 할 때에는 다음과 같이 해당 디렉터리의 \n## __init__.py 파일에 __all__변수를 설정하고 import 할 수 있는 모듈들을 정의해 주어야\n## 한다.",
      "execution_count": 41,
      "outputs": []
    },
    {
      "metadata": {
        "trusted": true
      },
      "cell_type": "code",
      "source": "",
      "execution_count": null,
      "outputs": []
    }
  ],
  "metadata": {
    "kernelspec": {
      "name": "python36",
      "display_name": "Python 3.6",
      "language": "python"
    }
  },
  "nbformat": 4,
  "nbformat_minor": 2
}