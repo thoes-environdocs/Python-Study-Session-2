{
  "cells": [
    {
      "metadata": {
        "collapsed": true,
        "trusted": false
      },
      "cell_type": "markdown",
      "source": "## 1. 2016년도 .csv파일 합치기"
    },
    {
      "metadata": {},
      "cell_type": "markdown",
      "source": "### 1) 경로 설정하기"
    },
    {
      "metadata": {
        "trusted": true
      },
      "cell_type": "code",
      "source": "import os\nos.chdir(\"/home/nbuser/library/실습/dust_2016\")",
      "execution_count": 1,
      "outputs": []
    },
    {
      "metadata": {},
      "cell_type": "markdown",
      "source": "### 2) 파일 이름 가져오기"
    },
    {
      "metadata": {
        "trusted": true
      },
      "cell_type": "code",
      "source": "import glob\nfile_names = glob.glob(\"*.csv\")",
      "execution_count": 2,
      "outputs": []
    },
    {
      "metadata": {},
      "cell_type": "markdown",
      "source": "### 3) 파일 불러와서 빈리스트에 채워넣기 pd.read_csv"
    },
    {
      "metadata": {
        "trusted": true
      },
      "cell_type": "code",
      "source": "import pandas as pd\ndata_2016 = []",
      "execution_count": 3,
      "outputs": []
    },
    {
      "metadata": {
        "trusted": true
      },
      "cell_type": "code",
      "source": "for i, content in enumerate(file_names):\n    print(content)\n    data_2016.append(pd.read_csv(content, encoding = \"CP949\"))",
      "execution_count": 4,
      "outputs": []
    },
    {
      "metadata": {},
      "cell_type": "markdown",
      "source": "### 4) 모두 합치기 pd.concat"
    },
    {
      "metadata": {
        "trusted": true
      },
      "cell_type": "code",
      "source": "data_2016 = pd.concat(data_2016, ignore_index = True)",
      "execution_count": 5,
      "outputs": []
    },
    {
      "metadata": {},
      "cell_type": "markdown",
      "source": "### 2. 데이터 길이, 컬럼의 속성을 알라보고, unique한 'region, code'가 어떤 것들이 있는지 알아보시오"
    },
    {
      "metadata": {},
      "cell_type": "markdown",
      "source": "### 1) 데이터 길이, 컬럼의 속성"
    },
    {
      "metadata": {
        "trusted": true
      },
      "cell_type": "code",
      "source": "length_2016 = len(data_2016)\nprint(length_2016)\ncolumn_list = data_2016.columns.tolist()\nprint(column_list)",
      "execution_count": 6,
      "outputs": [
        {
          "output_type": "stream",
          "text": "2818968\n['region', 'code', 'site', 'date', 'SO2', 'CO', 'O3', 'NO2', 'dust', 'PM25', '주소']\n",
          "name": "stdout"
        }
      ]
    },
    {
      "metadata": {},
      "cell_type": "markdown",
      "source": "#### 길이가 너무 긴 관계로 80000개의 데이터만 사용하겠음. "
    },
    {
      "metadata": {
        "trusted": true
      },
      "cell_type": "code",
      "source": "data_2016 = data_2016.iloc[:80000, :]",
      "execution_count": 7,
      "outputs": []
    },
    {
      "metadata": {},
      "cell_type": "markdown",
      "source": "### 2) unique한 'region, code'가 어떤 것들이 있는 지 알아보시오"
    },
    {
      "metadata": {
        "trusted": true
      },
      "cell_type": "code",
      "source": "import numpy as np\nregion_list = np.unique(data_2016['region'])\ncode_list = np.unique(data_2016['code'])\naddress_list = np.unique(data_2016['주소'])",
      "execution_count": 8,
      "outputs": []
    },
    {
      "metadata": {
        "trusted": true
      },
      "cell_type": "code",
      "source": "print(region_list)\nprint(code_list)\nprint(address_list)",
      "execution_count": 9,
      "outputs": [
        {
          "output_type": "stream",
          "text": "['강원 강릉시' '강원 고성군' '강원 동해시' '강원 삼척시' '강원 양구군' '강원 원주시' '강원 정선군' '강원 춘천시'\n '강원 횡성군' '경기 가평군' '경기 고양시' '경기 과천시' '경기 광명시' '경기 광주시' '경기 구리시' '경기 군포시'\n '경기 김포시' '경기 남양주시' '경기 동두천시' '경기 부천시' '경기 성남시']\n[131120 131121 131161 131163 131201 131202 131211 131212 131241 131242\n 131381 131382 131383 131392 131471 131472 131473 131501 131502 131571\n 131611 132112 132113 132401 632121 632122 632132 632151 632161 632371\n 632421 632431 831151 831152 831153 831154 831155]\n['강원 강릉시 옥천동' '강원 고성군 간성읍' '강원 동해시 천곡동' '강원 삼척시 남양동' '강원 양구군 방산면 송현1리'\n '강원 원주시 명륜동' '강원 원주시 학성동' '강원 정선군 북평면 남평리' '강원 춘천시 석사동' '강원 춘천시 중앙로 3가'\n '강원 횡성군 강림면 강림리(치악산)' '경기 가평군 가평읍 석봉로 181' '경기 고양시 덕양구 행신동 59-3'\n '경기 고양시 일산구 장항2동' '경기 고양시 일산동구 위시티로 151' '경기 과천시 과천동' '경기 과천시 별양동'\n '경기 광명시 소하동' '경기 광명시 철산동' '경기 광주시 경안동' '경기 구리시 교문동' '경기 구리시 인창동'\n '경기 군포시 금정동' '경기 군포시 당동' '경기 김포시 고촌면' '경기 김포시 사우동' '경기 김포시 통진면 마송리'\n '경기 남양주시 금곡동' '경기 남양주시 오남읍 양지리' '경기 동두천시 싸리말로' '경기 부천시 소사구 경인옛로 72'\n '경기 부천시 오정구 삼작로 114' '경기 부천시 오정구 성오로 172' '경기 부천시 원미구 심중로 121'\n '경기 부천시 원미구 중4동' '경기 성남시 분당구 백현동' '경기 성남시 수정구 단대동']\n",
          "name": "stdout"
        }
      ]
    },
    {
      "metadata": {},
      "cell_type": "markdown",
      "source": "## 3. 'data' 컬럼의 '년도', '월'의 컬럼을 따로 만들어 서 추가하려면 어떻게 해야할까? "
    },
    {
      "metadata": {},
      "cell_type": "markdown",
      "source": "### 1) 데이터 만들어 주기"
    },
    {
      "metadata": {
        "trusted": true
      },
      "cell_type": "code",
      "source": "year = [int(str(data_2016['date'][i])[0:4]) for i in range(len(data_2016))]\nyear = np.array(year)\nprint(year)",
      "execution_count": 11,
      "outputs": [
        {
          "output_type": "stream",
          "text": "[2016 2016 2016 ... 2016 2016 2016]\n",
          "name": "stdout"
        }
      ]
    },
    {
      "metadata": {
        "trusted": true
      },
      "cell_type": "code",
      "source": "month = [int(str(data_2016['date'][i])[4:6]) for i in range(len(data_2016))]\nmonth = np.array(month)\nprint(month)",
      "execution_count": 12,
      "outputs": [
        {
          "output_type": "stream",
          "text": "[1 1 1 ... 2 2 2]\n",
          "name": "stdout"
        }
      ]
    },
    {
      "metadata": {},
      "cell_type": "markdown",
      "source": "### 2) 데이터 붙이기"
    },
    {
      "metadata": {
        "trusted": true
      },
      "cell_type": "code",
      "source": "data_2016['year'] = year\ndata_2016['mm'] = month",
      "execution_count": 13,
      "outputs": []
    },
    {
      "metadata": {},
      "cell_type": "markdown",
      "source": "### 3) 컬럼 순서 바꿔주기"
    },
    {
      "metadata": {
        "trusted": true
      },
      "cell_type": "code",
      "source": "data_2016 = data_2016[['region', 'code', 'site', 'date','year', 'mm', 'SO2', 'CO', 'O3', 'NO2', 'dust', 'PM25', '주소']]",
      "execution_count": 14,
      "outputs": []
    },
    {
      "metadata": {},
      "cell_type": "markdown",
      "source": "## 4. 각 장소별 2016년도 월별 평균 만들기"
    },
    {
      "metadata": {},
      "cell_type": "markdown",
      "source": "### 장소에 관한 데이터 프레임 -> 월에 관한 데이터 프레임 -> 평균구하기"
    },
    {
      "metadata": {
        "trusted": true
      },
      "cell_type": "code",
      "source": "# 빈 리스트를 만들어 준다. \nmonth_real = []\n\n# 장소에 관한 데이터 프레임을 만들어 준다. \nfor j, region_content in enumerate(region_list):\n    print(region_content)\n    \n    # 장소에 관한 데이터 프레임\n    region_data = data_2016[data_2016['region'] == region_list[j]]\n    # 그 데이터 프레임 안에 월이 뭐가 들어 있니? \n    region_month = np.unique(region_data['mm'])\n\n    year = 2016\n\n    for i, month_content in enumerate(region_month):\n        print(month_content)\n        \n        mean_data = [region_content, year, month_content]\n        # 월에 관한 데이터 프레임\n        mean_month = region_data[region_data['mm'] == region_month[i]]\n        \n        # 월 데이터 프레임의 숫자 값들의 평균\n        mean_number = np.mean(mean_month.iloc[:, 6:12])\n\n        mean_data.extend(mean_number)\n        \n        # 빈 리스트에 채워 넣기\n        month_real.append(mean_data)",
      "execution_count": 31,
      "outputs": [
        {
          "output_type": "stream",
          "text": "강원 강릉시\n1\n2\n3\n강원 고성군\n1\n2\n3\n강원 동해시\n1\n2\n3\n강원 삼척시\n1\n2\n3\n강원 양구군\n1\n2\n3\n강원 원주시\n1\n2\n3\n강원 정선군\n1\n2\n3\n강원 춘천시\n1\n2\n3\n강원 횡성군\n1\n2\n3\n경기 가평군\n1\n2\n3\n경기 고양시\n1\n2\n3\n경기 과천시\n1\n2\n3\n경기 광명시\n1\n2\n3\n경기 광주시\n1\n2\n3\n경기 구리시\n1\n2\n3\n경기 군포시\n1\n2\n3\n경기 김포시\n1\n2\n3\n경기 남양주시\n1\n2\n3\n경기 동두천시\n1\n2\n3\n경기 부천시\n1\n2\n3\n경기 성남시\n1\n2\n3\n",
          "name": "stdout"
        }
      ]
    },
    {
      "metadata": {
        "trusted": true
      },
      "cell_type": "code",
      "source": "month_real = pd.DataFrame(month_real)\nmonth_real.columns = ['region', 'year', 'mm', 'SO2', 'CO', 'O3', 'NO2', 'dust', 'PM25']",
      "execution_count": 19,
      "outputs": []
    },
    {
      "metadata": {},
      "cell_type": "markdown",
      "source": "## 5. Visualization"
    },
    {
      "metadata": {},
      "cell_type": "markdown",
      "source": "### 1) dust와 PM25의 일대일 플랏을 그려보시오 "
    },
    {
      "metadata": {
        "trusted": true
      },
      "cell_type": "code",
      "source": "import matplotlib.pyplot as plt\n\nfig, ax = plt.subplots(nrows = 1, ncols = 1)\n\nax.scatter(month_real['dust'], month_real['PM25'], color ='red')\nax.set_xlabel(\"dust\")\nax.set_ylabel(\"PM25\")\nax.set_title(\"dust~PM25\")\n\nplt.show()",
      "execution_count": 21,
      "outputs": [
        {
          "output_type": "display_data",
          "data": {
            "image/png": "[encoded data removed]",
            "text/plain": "<Figure size 432x288 with 1 Axes>"
          },
          "metadata": {
            "needs_background": "light"
          }
        }
      ]
    },
    {
      "metadata": {},
      "cell_type": "markdown",
      "source": "### 2) correlation plot을 그려보시오 "
    },
    {
      "metadata": {
        "trusted": true
      },
      "cell_type": "code",
      "source": "import seaborn as sns\nmonth_real_for_corr = month_real.loc[:, 'SO2' : 'PM25']\ncorr = month_real_for_corr.corr(method = 'pearson')\nprint(corr)\nax = sns.heatmap(corr, annot = True, cmap =\"YlGnBu\")\nplt.show()",
      "execution_count": 23,
      "outputs": [
        {
          "output_type": "stream",
          "text": "           SO2        CO        O3       NO2      dust      PM25\nSO2   1.000000  0.786873 -0.741522  0.717940  0.458817  0.637996\nCO    0.786873  1.000000 -0.694436  0.580860  0.190884  0.407476\nO3   -0.741522 -0.694436  1.000000 -0.710138 -0.210934 -0.437069\nNO2   0.717940  0.580860 -0.710138  1.000000  0.450502  0.476241\ndust  0.458817  0.190884 -0.210934  0.450502  1.000000  0.728070\nPM25  0.637996  0.407476 -0.437069  0.476241  0.728070  1.000000\n",
          "name": "stdout"
        },
        {
          "output_type": "display_data",
          "data": {
            "image/png": "[encoded data removed]",
            "text/plain": "<Figure size 432x288 with 2 Axes>"
          },
          "metadata": {
            "needs_background": "light"
          }
        }
      ]
    },
    {
      "metadata": {},
      "cell_type": "markdown",
      "source": "### 3) 월별 박스 플랏을 그려보시오 "
    },
    {
      "metadata": {
        "trusted": true
      },
      "cell_type": "code",
      "source": "import seaborn as sns\nsns.boxplot(x = \"mm\" , y = \"dust\", data = month_real)\nplt.show()",
      "execution_count": 24,
      "outputs": [
        {
          "output_type": "display_data",
          "data": {
            "image/png": "[encoded data removed]",
            "text/plain": "<Figure size 432x288 with 1 Axes>"
          },
          "metadata": {
            "needs_background": "light"
          }
        }
      ]
    },
    {
      "metadata": {
        "trusted": true
      },
      "cell_type": "code",
      "source": "import seaborn as sns\nsns.boxplot(x = \"mm\" , y = \"PM25\", data = month_real)\nplt.show()",
      "execution_count": 25,
      "outputs": [
        {
          "output_type": "display_data",
          "data": {
            "image/png": "[encoded data removed]",
            "text/plain": "<Figure size 432x288 with 1 Axes>"
          },
          "metadata": {
            "needs_background": "light"
          }
        }
      ]
    },
    {
      "metadata": {},
      "cell_type": "markdown",
      "source": "## 6. 심화 문제 2017 및 2016 파일을 한꺼번에 가져와서 합치는 코드를 생성해보시오 "
    },
    {
      "metadata": {},
      "cell_type": "markdown",
      "source": "## 1) 디렉토리 위치 파악 "
    },
    {
      "metadata": {
        "trusted": true
      },
      "cell_type": "code",
      "source": "os.chdir(\"/home/nbuser/library/실습\")\ndir_names = glob.glob(\"*/\")",
      "execution_count": 26,
      "outputs": []
    },
    {
      "metadata": {
        "trusted": true
      },
      "cell_type": "code",
      "source": "dir_names",
      "execution_count": 27,
      "outputs": [
        {
          "output_type": "execute_result",
          "execution_count": 27,
          "data": {
            "text/plain": "['dust_2017/', 'dust_2016/']"
          },
          "metadata": {}
        }
      ]
    },
    {
      "metadata": {
        "trusted": true
      },
      "cell_type": "code",
      "source": "data_all = []\n\nfor i, dir_content in enumerate(dir_names):\n    os.chdir(\"/home/nbuser/library/실습/%s\" %(dir_content))\n    \n    file_names = glob.glob(\"*.csv\")\n    \n    for j, file_content in enumerate(file_names):\n\n        print(file_content)\n\n        data = pd.read_csv(file_content, encoding = \"CP949\")\n\n        data_all.append(data)",
      "execution_count": 29,
      "outputs": [
        {
          "output_type": "stream",
          "text": "2017-4.csv\n2017-2.csv\n2017-3.csv\n2017-1.csv\n2016-1.csv\n2016-2.csv\n2016-4.csv\n2016-3.csv\n",
          "name": "stdout"
        }
      ]
    },
    {
      "metadata": {
        "trusted": true
      },
      "cell_type": "code",
      "source": "data_all = pd.concat(data_all, ignore_index = True)",
      "execution_count": 30,
      "outputs": []
    },
    {
      "metadata": {
        "trusted": true
      },
      "cell_type": "code",
      "source": "",
      "execution_count": null,
      "outputs": []
    }
  ],
  "metadata": {
    "kernelspec": {
      "name": "python36",
      "display_name": "Python 3.6",
      "language": "python"
    },
    "language_info": {
      "mimetype": "text/x-python",
      "nbconvert_exporter": "python",
      "name": "python",
      "pygments_lexer": "ipython3",
      "version": "3.6.6",
      "file_extension": ".py",
      "codemirror_mode": {
        "version": 3,
        "name": "ipython"
      }
    }
  },
  "nbformat": 4,
  "nbformat_minor": 2
}