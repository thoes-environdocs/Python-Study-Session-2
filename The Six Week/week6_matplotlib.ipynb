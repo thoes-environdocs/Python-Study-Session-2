{
  "cells": [
    {
      "metadata": {
        "collapsed": true,
        "trusted": false
      },
      "cell_type": "code",
      "source": "import matplotlib.pyplot as plt\nimport numpy as np",
      "execution_count": null,
      "outputs": []
    },
    {
      "metadata": {
        "trusted": true
      },
      "cell_type": "code",
      "source": "'''\n1. 플랏 만들기\n'''",
      "execution_count": null,
      "outputs": []
    },
    {
      "metadata": {
        "trusted": true
      },
      "cell_type": "code",
      "source": "# 단일 플랏 만들기\n\nfig, ax = plt.subplots()\n\nax.plot([1,2,3], [1,2,3])\n\n#plt.show()\n",
      "execution_count": null,
      "outputs": []
    },
    {
      "metadata": {
        "trusted": true
      },
      "cell_type": "code",
      "source": "# 복수 플랏 만들기\nfig, (ax1, ax2) = plt.subplots(nrows = 1,ncols = 2)\n\nax1.plot( np.random.rand(2), marker = 'o' , linestyle = '' )\nax2.plot(np.random.rand(10), marker = '^', linestyle = '', color = 'red')\n\n#plt.show()\n",
      "execution_count": null,
      "outputs": []
    },
    {
      "metadata": {
        "trusted": true
      },
      "cell_type": "code",
      "source": "fig, ((ax1, ax2), (ax3, ax4)) = plt.subplots(nrows = 2, ncols = 2)\n\nax1.plot( np.random.rand(2), marker = 'o' , linestyle = '' )\nax2.plot( np.random.rand(4), marker = 'o' , linestyle = '' )\nax3.plot( np.random.rand(5), marker = 'o' , linestyle = '' )\nax4.plot( np.random.rand(6), marker = 'o' , linestyle = '' )\n#plt.show()",
      "execution_count": null,
      "outputs": []
    },
    {
      "metadata": {
        "trusted": true
      },
      "cell_type": "code",
      "source": "fig, ax = plt.subplots(nrows = 2, ncols = 2)\nax[0,0].plot(np.random.rand(4), marker = 'o' , linestyle = '' )\nax[0,1].plot(np.random.rand(5), marker = 'o' , linestyle = '' )\nax[1,0].plot(np.random.rand(6), marker = 'o' , linestyle = '' )\nax[1,1].plot(np.random.rand(7), marker = 'o' , linestyle = '' )\n#plt.show()\n",
      "execution_count": null,
      "outputs": []
    },
    {
      "metadata": {
        "trusted": true
      },
      "cell_type": "code",
      "source": "fig, ax = plt.subplots(nrows = 10, ncols = 10)\nfor i in range(len(list(range(1, 11, 1)))):\n    for j in range(len(list(range(1, 11, 1)))):\n        ax[i, j].plot(np.random.rand(i + j),np.random.rand(i + j), marker ='o', linestyle = '')\n        ax[i,j].set_xticks([])\n        ax[i,j].set_yticks([])\n#plt.show()\n",
      "execution_count": null,
      "outputs": []
    },
    {
      "metadata": {
        "trusted": true
      },
      "cell_type": "code",
      "source": "'''\n2. Line plot\n\n'''",
      "execution_count": null,
      "outputs": []
    },
    {
      "metadata": {
        "trusted": true
      },
      "cell_type": "code",
      "source": "fig, ax = plt.subplots(nrows = 1, ncols = 1)\n\nimport random\n\nx = [ random.randint(0, 100) for i in range(100) ]\nx.sort()\ny = [ random.randint(0, 100) for i in range(100) ]\ny.sort()\n\nax.plot(x, y)\n\n## 참고 : scale변환\n### 'linear', 'log', 'symlog', 'logit'...\nax.set_xscale('log')\nax.set_yscale('log')\n\n\nplt.show()\n",
      "execution_count": null,
      "outputs": []
    },
    {
      "metadata": {
        "trusted": true
      },
      "cell_type": "code",
      "source": "'''\n3. Scatter plot\n\n'''",
      "execution_count": null,
      "outputs": []
    },
    {
      "metadata": {
        "trusted": true
      },
      "cell_type": "code",
      "source": "fig, ax = plt.subplots(nrows = 1, ncols = 1)\nimport random\nx = [ random.randint(0, 100) for i in range(100) ]\nx.sort()\ny = [ random.randint(0, 100) for i in range(100) ]\ny.sort()\n\nax.scatter(x, y, marker = 'D',  color = '#ffcccc')\nax.scatter(x, y, marker = 'D', color = (244/256, 255/256, 123/256))\n\nplt.show()\n",
      "execution_count": null,
      "outputs": []
    },
    {
      "metadata": {
        "trusted": true
      },
      "cell_type": "code",
      "source": "## 참고 : 색깔 변환\n# rgb의 경우 튜플형식으로 대입 0과 1사이로 만약 244, 255, 123 이면 256으로 나눈 수가 안에 들어감 ( , , )\n# html의 경우 7자리 코드로 대입\n\n",
      "execution_count": null,
      "outputs": []
    },
    {
      "metadata": {
        "trusted": true
      },
      "cell_type": "code",
      "source": "'''\nQ1 x와 y의 np.random.normal(mu = 10, sigma = 1,size = 100)으로 100개씩 난수 추출\nQ2 x와 y의 np.random.poisson(lam = 20, size = 100)으로 100개씩 난수 추출 \n\n'''\n",
      "execution_count": null,
      "outputs": []
    },
    {
      "metadata": {
        "trusted": true
      },
      "cell_type": "code",
      "source": "'''\n4. Histogram\n'''",
      "execution_count": null,
      "outputs": []
    },
    {
      "metadata": {
        "trusted": true
      },
      "cell_type": "code",
      "source": "fig, ax = plt.subplots(nrows = 1, ncols = 1)\nimport random\nx = [ random.randint(0, 100) for i in range(100) ]\nx.sort()\ny = [ random.randint(0, 100) for i in range(100) ]\ny.sort()\n\n\n#ax.hist(x, bins = 15)\n\nax.hist(x,\n         bins = 10,\n         density = False,\n         cumulative = False,\n         histtype = 'bar', # bar or step\n         orientation = 'vertical', # or horizontal\n         rwidth = 0.8, ## 1.0일 경우, 꽉 채움 작아질수록 간격이 생김\n         color = 'red')\n\n\n### 참고 : 텍스트 삽입\nax.text(50, 6, \"text\",\n        fontsize = 20,\n        rotation = 60)\n\nplt.show()\n",
      "execution_count": null,
      "outputs": []
    },
    {
      "metadata": {
        "trusted": true
      },
      "cell_type": "code",
      "source": "'''\n5. 라벨 붙이기 x축이름 y축이름 제목\n'''",
      "execution_count": null,
      "outputs": []
    },
    {
      "metadata": {
        "trusted": true
      },
      "cell_type": "code",
      "source": "fig, ax = plt.subplots(nrows = 1, ncols = 1)\nx = np.random.normal(10, 3,size = 100)\ny = np.random.normal(4, 1, size = 100)\n\nax.plot(x, y, 'o')\n\nax.set_xlabel(\"x-axis\")\nax.set_ylabel(\"y-axis\")\nax.set_title(\"x, y graph\")\n\nplt.show()\n",
      "execution_count": null,
      "outputs": []
    },
    {
      "metadata": {
        "trusted": true
      },
      "cell_type": "code",
      "source": "'''\nQ3 x의 히스토그램을 만들고 x, y축이름과 제목을 붙여보시오\n\n'''\n",
      "execution_count": null,
      "outputs": []
    },
    {
      "metadata": {
        "trusted": true
      },
      "cell_type": "code",
      "source": "'''\n6. Ticks\nTicks의 첫번째 파라미터는 수치 리스트가 들어가고, 두번째 파라미터는 첫번째 파라미터를\n각각 대체하는 역할을 한다.\n'''",
      "execution_count": null,
      "outputs": []
    },
    {
      "metadata": {
        "trusted": true
      },
      "cell_type": "code",
      "source": "fig, ax = plt.subplots(nrows = 1, ncols = 1)\n\nimport random\n\nx = [ random.randint(0, 100) for i in range(100) ]\nx.sort()\ny = [ random.randint(0, 100) for i in range(100) ]\ny.sort()\nscale = 20 * np.random.randint(1, 10, size = 100)\nc = np.random.randint(1, 10, size=100)\n\n\nax.set_ylim(10, 120)\nax.set_xlim(10, 120)\n\nax.set_xscale('log')\nax.set_yscale('log')\n\nax.scatter(x, y, s = scale, marker = 'o', c = c, label = 'whatis!', alpha = 0.6)\n\ntick_val = (1, 10, 100)\ntick_lab = ('one', 'ten', 'hundred')\nax.set_xticks(tick_val)\nax.set_xticklabels(tick_lab)\n\nax.set_yticks(tick_val)\nax.set_yticklabels(tick_lab)\n\nax.set_ylabel(\"ylabel\")\nax.set_xlabel(\"xlabel\")\nax.set_title(\"x, y\")\n\nax.legend(loc = \"upper left\")\nax.grid(True)\n\nplt.show()\n",
      "execution_count": null,
      "outputs": []
    },
    {
      "metadata": {
        "trusted": true
      },
      "cell_type": "code",
      "source": "'''\nQ4 X, Y 난수 100개를 만들고 그림을 그려보시오\n\n제목 : X, Y graph\nx 제목 : X-axis\ny 제목 : Y-axis\n\n'''",
      "execution_count": null,
      "outputs": []
    },
    {
      "metadata": {
        "trusted": true
      },
      "cell_type": "code",
      "source": "",
      "execution_count": null,
      "outputs": []
    }
  ],
  "metadata": {
    "kernelspec": {
      "name": "python36",
      "display_name": "Python 3.6",
      "language": "python"
    },
    "language_info": {
      "mimetype": "text/x-python",
      "nbconvert_exporter": "python",
      "name": "python",
      "pygments_lexer": "ipython3",
      "version": "3.6.6",
      "file_extension": ".py",
      "codemirror_mode": {
        "version": 3,
        "name": "ipython"
      }
    }
  },
  "nbformat": 4,
  "nbformat_minor": 2
}