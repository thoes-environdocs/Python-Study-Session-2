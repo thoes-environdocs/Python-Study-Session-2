{
  "cells": [
    {
      "metadata": {
        "collapsed": true
      },
      "cell_type": "markdown",
      "source": "######## 데이터 불러오기 ########"
    },
    {
      "metadata": {
        "trusted": true
      },
      "cell_type": "code",
      "source": "'''\n1. 환경 변수 설정\n\n'''",
      "execution_count": 1,
      "outputs": [
        {
          "output_type": "execute_result",
          "execution_count": 1,
          "data": {
            "text/plain": "'\\n1. 환경 변수 설정\\n\\n'"
          },
          "metadata": {}
        }
      ]
    },
    {
      "metadata": {
        "trusted": true
      },
      "cell_type": "code",
      "source": "import os\n\n## 현재의 경로는 어디에 있지?\nos.getcwd()\n\n\n## 현재의 경로를 바꾸고 싶어\nos.chdir(\"C:\\\\Users\\\\admin\\\\Desktop\\\\파이썬 스터디 세션2\\\\6주차\\\\example\")",
      "execution_count": null,
      "outputs": []
    },
    {
      "metadata": {
        "trusted": true
      },
      "cell_type": "code",
      "source": "'''\nQ1 :  practice로 경로를 바꾸어 보시오\n\n'''",
      "execution_count": null,
      "outputs": []
    },
    {
      "metadata": {
        "trusted": true
      },
      "cell_type": "code",
      "source": "'''\n2. Data Genegrating - 엑셀 파일 불러오기\n\n주의할 점! 데이터의 Column명을 동일하게 맞추어 데이터를 구성하는 것이\n           데이터를 합치거나 원하는데로 가공할 때 편하다.\n\n'''",
      "execution_count": null,
      "outputs": []
    },
    {
      "metadata": {
        "trusted": true
      },
      "cell_type": "code",
      "source": "## 기본 pandas\nimport pandas as pd\ndata = pd.read_csv(\"Forest.csv\", encoding = \"CP949\")\ndata = pd.read_excel(\"Agriculture.xls\", encoding = \"utf-8\")\n\n",
      "execution_count": null,
      "outputs": []
    },
    {
      "metadata": {
        "trusted": true
      },
      "cell_type": "code",
      "source": "#상위 5개의 데이터를 보여줌 \ndata.head()\n#데이터를 summary해줌 mean, std, 25%, 50%, 75%, max\ndata.describe()\n",
      "execution_count": null,
      "outputs": []
    },
    {
      "metadata": {
        "trusted": true
      },
      "cell_type": "code",
      "source": "'''\nQ2 : practice에서 Urban.xls 데이터를 불러와 보시오\nQ3 : 위 데이터를 요약해 보시오\n\n'''\n",
      "execution_count": null,
      "outputs": []
    },
    {
      "metadata": {
        "trusted": true
      },
      "cell_type": "code",
      "source": "## 심화 pandas with glob\nimport glob\n'''\nglob는 파일들의 목록을 뽑을 때 사용하게 된다.\n목록을 뽑을 수있다면 한꺼번에 데이터를 불러 올수 있어 매우 편리하다.\n사람이 클릭을 여러번 해야할 일을 한꺼번에 실행해주어 시간을 절약할 수 있다.\n\n'''",
      "execution_count": null,
      "outputs": []
    },
    {
      "metadata": {
        "trusted": true
      },
      "cell_type": "code",
      "source": "file_names = glob.glob(\"*\")\nfile_names = glob.glob(\"*.csv\")\nfile_names = glob.glob(\"*.xlsx\")\nfile_names = glob.glob(\"*.xls\")",
      "execution_count": null,
      "outputs": []
    },
    {
      "metadata": {
        "trusted": true
      },
      "cell_type": "code",
      "source": "'''\nQ4 : pandas와 glob를 이용하여 경로의 csv파일을 모두 불러와 리스트에 넣어보시오.\nQ5 : pandas와 glob를 이용하여 경로의 xls파일을 모두 불러와 리스트에 넣어보시오.\n\n'''",
      "execution_count": null,
      "outputs": []
    },
    {
      "metadata": {
        "trusted": true
      },
      "cell_type": "code",
      "source": "#### answer Q4, Q5\nfile_names = glob.glob(\"*.csv\")\ndata_list = []\nfor i in range(len(file_names)):\n    data_csv = pd.read_csv(file_names[i], encoding = \"CP949\")\n    data_list.append(data_csv)",
      "execution_count": null,
      "outputs": []
    },
    {
      "metadata": {
        "trusted": true
      },
      "cell_type": "code",
      "source": "'''\nQ6 : data_list에 있는 각각의 파일 마다의 길이를 프린트 해보시오.\n\n'''",
      "execution_count": null,
      "outputs": []
    },
    {
      "metadata": {
        "trusted": true
      },
      "cell_type": "code",
      "source": "#### answer Q6\nfor i in range(len(data_list)):\n    print( '%d번째의 데이터 길이는 %d입니다.' %(i, len(data_list[i])))\n\n",
      "execution_count": null,
      "outputs": []
    },
    {
      "metadata": {
        "trusted": true
      },
      "cell_type": "code",
      "source": "### data_list에 있는 모든 데이터 합치기\n# 아래로 붙이기 \ndata_all_down = pd.concat(data_list, ignore_index= True)\n# 옆으로 붙이기\ndata_all_right = pd.concat(data_list, axis = 1, ignore_index = True)",
      "execution_count": null,
      "outputs": []
    },
    {
      "metadata": {
        "trusted": true
      },
      "cell_type": "code",
      "source": "'''\nQ7 : xls형식의 파일을 불러와서 합쳐진 데이터 프레임을 만들어 보시오\n\n'''\n",
      "execution_count": null,
      "outputs": []
    },
    {
      "metadata": {
        "trusted": true
      },
      "cell_type": "code",
      "source": "'''\n3. 데이터 Columns와 Rows\nColumns 데이터가 가지고 있는 특징 (= 필드, 열, 속)\nRows 데이터 구분을 해줌 (= 레코드, 행, index)\n데이터는 행과 열에 의해 표현이 가능하다! \n'''",
      "execution_count": null,
      "outputs": []
    },
    {
      "metadata": {
        "trusted": true
      },
      "cell_type": "code",
      "source": "import numpy as np\nindex_list = data_all_down.index.tolist()\nindex_list = np.array(index_list)\ncolumns_list = data_all_down.columns.tolist()\ncolumns_list = np.array(columns_list)\n\n",
      "execution_count": null,
      "outputs": []
    },
    {
      "metadata": {
        "trusted": true
      },
      "cell_type": "code",
      "source": "'''\nQ8 : 데이터를 옆으로 붙인 것의 index와 columns의 list를 확인해 보시오\n'''\n",
      "execution_count": null,
      "outputs": []
    },
    {
      "metadata": {
        "trusted": true
      },
      "cell_type": "code",
      "source": "'''\n4. Columns 및 Row의 정보를 통해 데이터의 추출\n\n### 데이터엔 서열이 존재한다 !\n### 데이터를 구성하는 사람이 되어서 생각해 보자\n### 수질 데이터를 만들 때, 어떤 데이터를 가장 먼저 제1의 속성으로 만들어야 할까?\n### 무엇이 가장 큰 범주 일까?\n### 장소 -> 일자 -> 수질 항목\n'''",
      "execution_count": null,
      "outputs": []
    },
    {
      "metadata": {
        "trusted": true
      },
      "cell_type": "code",
      "source": "# 4.1 기본 column 이름으로 추출\ndata_all = pd.concat(data_list, ignore_index= True)\n\n\nprint(data_all.columns.tolist())",
      "execution_count": null,
      "outputs": []
    },
    {
      "metadata": {
        "trusted": true
      },
      "cell_type": "code",
      "source": "\n## 참고: column 위치 바꾸기\ndata_all = data_all[['site', 'region', 'date', 'ph', 'do', 'bod', 'cod',\n                     'ss', 'tn', 'tp', 'temp', 'ec', 't.coli', 'nh3', 'no3',\n                     'po4', 'f.coli', 'landuse']]\n\ndata_all = data_all[['region', 'site', 'date', 'ph', 'do', 'bod', 'cod',\n                     'ss', 'tn', 'tp', 'temp', 'ec', 't.coli', 'nh3', 'no3',\n                     'po4', 'f.coli', 'landuse']]",
      "execution_count": null,
      "outputs": []
    },
    {
      "metadata": {
        "trusted": true
      },
      "cell_type": "code",
      "source": "extract_column_1 = data_all[['tp']]\nextract_column_2 = data_all[['cod']]\nextract_columns = data_all[['tp', 'cod']]",
      "execution_count": null,
      "outputs": []
    },
    {
      "metadata": {
        "trusted": true
      },
      "cell_type": "code",
      "source": "'''\nQ9 : 데이터의 t.coli, f.coli, no3의 정보를 뽑아보자\n\n'''",
      "execution_count": null,
      "outputs": []
    },
    {
      "metadata": {
        "trusted": true
      },
      "cell_type": "code",
      "source": "extract_columns = data_all[['t.coli', 'f.coli']]",
      "execution_count": null,
      "outputs": []
    },
    {
      "metadata": {
        "trusted": true
      },
      "cell_type": "code",
      "source": "# 4.2 심화 iloc, loc\n## iloc 숫자 기반 loc 정보 기반 \n",
      "execution_count": null,
      "outputs": []
    },
    {
      "metadata": {
        "trusted": true
      },
      "cell_type": "code",
      "source": "\n## 4.2.1 loc\n\n## 정보 기반 loc[행, 열] 리스트를 안에다가 넣어 주면 된다.\n\n### 열 정보를 전체 다 가져올래\ndata_all.loc[[1], :]\n\n### 1번째 row의 정보와 'tp'라는 컬럼을 가지고 있는 데이터를 가져오자\ndata_all.loc[[1], ['tp']]\n\n### 1번째, 2번째 row의 정보와 'tp'라는 컬럼을 가지고 있는 데이터를 가져오자\ndata_all.loc[[1, 2], ['tp']]\n\n### 1번째, 2번째 row의 정보와 'tp', 'cod'라는 컬럼을 가지고 있는 데이터를 가져오자\ndata_all.loc[list(range(1,3)), ['tp', 'cod']]",
      "execution_count": null,
      "outputs": []
    },
    {
      "metadata": {
        "trusted": true
      },
      "cell_type": "code",
      "source": "'''\nQ10 :  데이터의 row가 10, 12, 13, 212이고 column이 't.coli, cod, bod'인 데이터를 추출하시오\nQ11 :  row가 홀수인 데이터만 다 가져오고 싶어\n'''",
      "execution_count": null,
      "outputs": []
    },
    {
      "metadata": {
        "trusted": true
      },
      "cell_type": "code",
      "source": "data_all.loc[[10, 12, 13, 12000], ['t.coli', 'cod', 'bod']]\ndata_all.loc[list(range(1, len(data_all), 2)), :]\n",
      "execution_count": null,
      "outputs": []
    },
    {
      "metadata": {
        "trusted": true
      },
      "cell_type": "code",
      "source": "## 4.2.2 iloc\n\n## 숫자 기반 iloc[행, 열]리스트를 안에다가 넣어 주면 된다. \ndata_all.iloc[1, 1]\ndata_all.iloc[:, 1] # data_all['site']와 기능이 같다. \n\ndata_all.iloc[[1,3,4,2,4,1], [1,2]]",
      "execution_count": null,
      "outputs": []
    },
    {
      "metadata": {
        "trusted": true
      },
      "cell_type": "code",
      "source": "\n'''\nQ12 : 데이터의 row가 짝수이고, column이 홀수인 데이터만 다가져오고 싶어\n'''",
      "execution_count": null,
      "outputs": []
    },
    {
      "metadata": {
        "trusted": true
      },
      "cell_type": "code",
      "source": "data_all.iloc[list(range(1, len(data_all), 2)), list(range(1, len(data_all.columns.tolist()), 2))]\n",
      "execution_count": null,
      "outputs": []
    },
    {
      "metadata": {
        "trusted": true
      },
      "cell_type": "code",
      "source": "'''\n5 조건을 통해 데이터 추출\n원하는 조건을 통해 데이터를 추출해본다. \n'''",
      "execution_count": null,
      "outputs": []
    },
    {
      "metadata": {
        "trusted": true
      },
      "cell_type": "code",
      "source": "## 참고 : 매우 중요 \nregion = np.unique(data_all['region'])\n",
      "execution_count": null,
      "outputs": []
    },
    {
      "metadata": {
        "trusted": true
      },
      "cell_type": "code",
      "source": "'''\nQ13 : 데이터의 site는 어떤 것이 있을까? 리스트로 구성해 보시오\n\n'''",
      "execution_count": null,
      "outputs": []
    },
    {
      "metadata": {
        "trusted": true
      },
      "cell_type": "code",
      "source": "### answer 13\nsite = np.unique(data_all['site'])\n",
      "execution_count": null,
      "outputs": []
    },
    {
      "metadata": {
        "trusted": true
      },
      "cell_type": "code",
      "source": "## 원리 조건에 맞는 데이터를 True, False로 인식함 True인 데이터만 뽑아온다.\ndata_all['region'] == '광주_황룡강합류전' ## true인것을 만들기\n\ndata_all[data_all['region'] == '광주_황룡강합류전'] ## true 뽑아오기\n\n\ndata_all[data_all['region'].isin(['고양_공릉천상류', '고양_창릉천', '광주_광주천'])]\ndata_all[data_all['landuse'].isin(['Agriculture', 'Urban'])]",
      "execution_count": null,
      "outputs": []
    },
    {
      "metadata": {
        "trusted": true
      },
      "cell_type": "code",
      "source": "#교집합\ndata_all[(data_all['landuse'].isin(['Agriculture'])) & (data_all['t.coli'] > 1000)]\n\n#합집합\ndata_all[(data_all['landuse'].isin(['Agriculture'])) | (data_all['t.coli'] > 1000)]\n",
      "execution_count": null,
      "outputs": []
    },
    {
      "metadata": {
        "trusted": true
      },
      "cell_type": "code",
      "source": "## 참고 : 날짜 변환\ndate_split = [data_all['date'][i].split('-') for i in range(len(data_all))]\ndate_split = pd.DataFrame(date_split)\ndata_all['year'] = date_split.iloc[:,0]\ndata_all['mm'] = date_split.iloc[:,1]\ndata_all['dd'] = date_split.iloc[:,2]\nprint(data_all.columns.tolist())\ndata_all = data_all[['region', 'site', 'date','year', 'mm', 'dd', 'ph', 'do', 'bod', 'cod',\n                     'ss', 'tn', 'tp', 'temp', 'ec', 't.coli', 'nh3', 'no3',\n                     'po4', 'f.coli', 'landuse']]\n\n",
      "execution_count": null,
      "outputs": []
    },
    {
      "metadata": {
        "trusted": true
      },
      "cell_type": "code",
      "source": "'''\nQ14 : data_all에서 year가 2018인 데이터를 추출하여 data_2018인 객체를 만들어 보시오\nQ15 : data_all에서 year가 2014, 2018이고 site가 '갑천3', '갑천4', '갑천5'인 데이터를 뽑으시오\nQ16 : region을 '_'를 통해 split한다음 앞의 것을 'region_1', 뒤의 것을 'region_2'로 만들어 data_all 데이터 프레임에 추가하시오\nQ16 : data_all에서 t.coli가 1000보다 크고, f.coli가 1000보다 크고, region_1이 '서울' 인 데이터를 뽑으시오\n\n'''",
      "execution_count": null,
      "outputs": []
    },
    {
      "metadata": {
        "trusted": true
      },
      "cell_type": "code",
      "source": "region_split = [data_all['region'][i].split('_') for i in range(len(data_all))]\nregion_split = pd.DataFrame(region_split)\ndata_all['region_1'] = region_split.iloc[:,0]\ndata_all['region_2'] = region_split.iloc[:,1]\ndata_all = data_all[['region','region_1', 'region_2', 'site', 'date','year', 'mm', 'dd', 'ph', 'do', 'bod', 'cod',\n                     'ss', 'tn', 'tp', 'temp', 'ec', 't.coli', 'nh3', 'no3',\n                     'po4', 'f.coli', 'landuse']]\n",
      "execution_count": null,
      "outputs": []
    },
    {
      "metadata": {
        "trusted": true
      },
      "cell_type": "code",
      "source": "'''\n6. 데이터를 Sorting해본다.\n'''\n",
      "execution_count": null,
      "outputs": []
    },
    {
      "metadata": {
        "trusted": true
      },
      "cell_type": "code",
      "source": "## 사이트 명으로 오름차순\ndata_all = data_all.sort_values(by = ['site'])\n## 사이트 명으로 내림차순 \ndata_all = data_all.sort_values(by = ['site'], ascending = False)\n## site -> year -> mm 순서대로\ndata_all = data_all.sort_values(by = ['site', 'year', 'mm'])\n",
      "execution_count": null,
      "outputs": []
    },
    {
      "metadata": {
        "trusted": true
      },
      "cell_type": "code",
      "source": "'''\n7. 데이터 프레임을 제거한다.\n수정하기 전엔 원본 데이터는 보존 해야 한다.\n따라서 카피본을 먼저 만들고 그 데이터를 수정하도록 한다.\n'''",
      "execution_count": null,
      "outputs": []
    },
    {
      "metadata": {
        "trusted": true
      },
      "cell_type": "code",
      "source": "data_all_copy = data_all.copy()\n## 컬럼 제거 \ndata_all_copy = data_all_copy.drop(['tp'], axis = 1)\n## 행 제거\ndata_all_copy = data_all_copy.drop([1, 2, 3], axis = 0)\n\nprint(len(data_all_copy))\ndata_all_copy = data_all_copy.drop(data_all_copy[data_all_copy['site'].isin(['갑천3'])].index.values)\n",
      "execution_count": null,
      "outputs": []
    },
    {
      "metadata": {
        "trusted": true
      },
      "cell_type": "code",
      "source": "'''\nQ17 : data_all에서 대전 지역의 데이터를 drop시켜 보시오\n\n'''",
      "execution_count": null,
      "outputs": []
    },
    {
      "metadata": {
        "trusted": true
      },
      "cell_type": "code",
      "source": "region_1 = np.unique(data_all['region_1'])\nprint(len(data_all_copy))\ndata_all_copy = data_all_copy.drop(data_all_copy[data_all_copy['region_1'].isin(['대전', '서울'])].index.values)\nprint(len(data_all_copy))\n\n",
      "execution_count": null,
      "outputs": []
    },
    {
      "metadata": {
        "trusted": true
      },
      "cell_type": "code",
      "source": "'''\n8. 데이터 프레임을 추가 해봅시다.\n\n.append로 추가를 해주어 보자\n.concat도 사용가능함\n\n'''",
      "execution_count": null,
      "outputs": []
    },
    {
      "metadata": {
        "trusted": true
      },
      "cell_type": "code",
      "source": "k = data_all_copy.iloc[1,:]\ndata_all_copy = data_all_copy.append(k, ignore_index = True)\ntype(k)\ntype(data_all_copy)\n",
      "execution_count": null,
      "outputs": []
    },
    {
      "metadata": {
        "trusted": true
      },
      "cell_type": "code",
      "source": "k = pd.DataFrame.transpose(pd.DataFrame(k))\ndata_all_copy = pd.concat([data_all_copy, k], ignore_index = True)\n",
      "execution_count": null,
      "outputs": []
    },
    {
      "metadata": {
        "trusted": true
      },
      "cell_type": "code",
      "source": "\n'''\n9. 저장하기\n'''",
      "execution_count": null,
      "outputs": []
    },
    {
      "metadata": {
        "trusted": true
      },
      "cell_type": "code",
      "source": "writer = pd.ExcelWriter('example_1.xlsx')\ndata_all_copy.to_excel(writer,'Sheet1')\n# data_all_copy.to_csv(writer, 'Sheet1')\nwriter.save()",
      "execution_count": null,
      "outputs": []
    }
  ],
  "metadata": {
    "kernelspec": {
      "name": "python36",
      "display_name": "Python 3.6",
      "language": "python"
    },
    "language_info": {
      "mimetype": "text/x-python",
      "nbconvert_exporter": "python",
      "name": "python",
      "pygments_lexer": "ipython3",
      "version": "3.6.6",
      "file_extension": ".py",
      "codemirror_mode": {
        "version": 3,
        "name": "ipython"
      }
    }
  },
  "nbformat": 4,
  "nbformat_minor": 2
}