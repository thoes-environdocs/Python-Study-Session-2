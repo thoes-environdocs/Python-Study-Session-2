{
  "cells": [
    {
      "metadata": {
        "collapsed": true
      },
      "cell_type": "markdown",
      "source": "# 함수"
    },
    {
      "metadata": {
        "trusted": true
      },
      "cell_type": "code",
      "source": "# a와 b를 더하는 함수를 만들어보자.\ndef sum(a,b):\n    return a+b",
      "execution_count": 1,
      "outputs": []
    },
    {
      "metadata": {
        "trusted": true
      },
      "cell_type": "code",
      "source": "a=3\nb=4\nc=sum(a,b)\nprint(c)",
      "execution_count": 2,
      "outputs": [
        {
          "output_type": "stream",
          "text": "7\n",
          "name": "stdout"
        }
      ]
    },
    {
      "metadata": {
        "trusted": true
      },
      "cell_type": "code",
      "source": "a=sum(3,4)\nprint(a)",
      "execution_count": 3,
      "outputs": [
        {
          "output_type": "stream",
          "text": "7\n",
          "name": "stdout"
        }
      ]
    },
    {
      "metadata": {},
      "cell_type": "markdown",
      "source": "### 입력 값이 몇개가 될지 모를 때"
    },
    {
      "metadata": {
        "trusted": true
      },
      "cell_type": "code",
      "source": "def sum_many(*arg):\n    sum=0\n    for i in arg:\n        sum+=i   #또는 sum=sum+i\n    return sum",
      "execution_count": 5,
      "outputs": []
    },
    {
      "metadata": {
        "trusted": true
      },
      "cell_type": "code",
      "source": "a= sum_many(1,2,3)\nprint(a)",
      "execution_count": 7,
      "outputs": [
        {
          "output_type": "stream",
          "text": "6\n",
          "name": "stdout"
        }
      ]
    },
    {
      "metadata": {
        "trusted": true
      },
      "cell_type": "code",
      "source": "a=sum_many(1,2,3,4,5,6,7,8,9,10)\nprint(a)",
      "execution_count": 14,
      "outputs": [
        {
          "output_type": "stream",
          "text": "55\n",
          "name": "stdout"
        }
      ]
    },
    {
      "metadata": {},
      "cell_type": "markdown",
      "source": "#### 입력값이 몇 개 될지 모를 때 + choice를 할 수 있는 함수"
    },
    {
      "metadata": {
        "trusted": true
      },
      "cell_type": "code",
      "source": "def sum_mul(choice, *args):\n    if choice ==\"sum\":\n        a=0\n        for i in args:\n            a+=i\n    elif choice==\"mul\":\n        a=1\n        for i in args:\n            a=a*i\n    return a",
      "execution_count": 11,
      "outputs": []
    },
    {
      "metadata": {
        "trusted": true
      },
      "cell_type": "code",
      "source": "a=sum_mul('sum', 1,2,3,4,5)\nprint(a)",
      "execution_count": 12,
      "outputs": [
        {
          "output_type": "stream",
          "text": "15\n",
          "name": "stdout"
        }
      ]
    },
    {
      "metadata": {
        "trusted": true
      },
      "cell_type": "code",
      "source": "a=sum_mul('mul', 1,2,3,4,5)\nprint(a)",
      "execution_count": 13,
      "outputs": [
        {
          "output_type": "stream",
          "text": "120\n",
          "name": "stdout"
        }
      ]
    },
    {
      "metadata": {},
      "cell_type": "markdown",
      "source": "### 함수의 결과값은 언제나 하나이다."
    },
    {
      "metadata": {
        "trusted": true
      },
      "cell_type": "code",
      "source": "def sum_and_mul(a,b):\n    return a+b, a*b",
      "execution_count": 19,
      "outputs": []
    },
    {
      "metadata": {
        "trusted": true
      },
      "cell_type": "code",
      "source": "a=sum_and_mul(3,4)\nprint(a) ",
      "execution_count": 17,
      "outputs": [
        {
          "output_type": "stream",
          "text": "(7, 12)\n",
          "name": "stdout"
        }
      ]
    },
    {
      "metadata": {
        "trusted": true
      },
      "cell_type": "code",
      "source": "def sum_and_mul(a,b):\n    return a+b\n    return a*b",
      "execution_count": 20,
      "outputs": []
    },
    {
      "metadata": {
        "trusted": true
      },
      "cell_type": "code",
      "source": "a=sum_and_mul(2,3)\nprint(a)  # 함수는 return문을 만나는 순간 결과값을 돌려준 다음 함수를 빠져나가게 된다.",
      "execution_count": 22,
      "outputs": [
        {
          "output_type": "stream",
          "text": "5\n",
          "name": "stdout"
        }
      ]
    },
    {
      "metadata": {
        "trusted": true
      },
      "cell_type": "markdown",
      "source": "## 함수문제 예제"
    },
    {
      "metadata": {
        "trusted": true
      },
      "cell_type": "markdown",
      "source": "### 입력으로 들어오는 모든 수의 총합과 평균 값을 선택해서 계산해 주는 함수를 만들고, 75, 80, 65의 총합과 평균을 구해라"
    },
    {
      "metadata": {
        "trusted": true
      },
      "cell_type": "code",
      "source": "def sum_avg(choice, *args):\n    if choice ==\"sum\":\n        a=0\n        for i in args:\n            a+=i\n    elif choice==\"avg\":\n        a=0\n        for i in args:\n            a+=i/len(args)\n    return a",
      "execution_count": 5,
      "outputs": []
    },
    {
      "metadata": {
        "trusted": true
      },
      "cell_type": "code",
      "source": "sum_avg(\"sum\", 75,80,65)",
      "execution_count": 6,
      "outputs": [
        {
          "output_type": "execute_result",
          "execution_count": 6,
          "data": {
            "text/plain": "220"
          },
          "metadata": {}
        }
      ]
    },
    {
      "metadata": {
        "trusted": true
      },
      "cell_type": "code",
      "source": "sum_avg(\"avg\", 75,80,65)",
      "execution_count": 7,
      "outputs": [
        {
          "output_type": "execute_result",
          "execution_count": 7,
          "data": {
            "text/plain": "73.33333333333334"
          },
          "metadata": {}
        }
      ]
    },
    {
      "metadata": {
        "trusted": true
      },
      "cell_type": "markdown",
      "source": "# 파일 읽고 쓰기"
    },
    {
      "metadata": {},
      "cell_type": "markdown",
      "source": "### 1. 파일 생성하기"
    },
    {
      "metadata": {
        "trusted": true
      },
      "cell_type": "code",
      "source": "f=open(\"민예.txt\",'w')\nf.close()",
      "execution_count": 17,
      "outputs": []
    },
    {
      "metadata": {},
      "cell_type": "markdown",
      "source": "### 2. 파일을 쓰기 모드로 열어 출력값 적기"
    },
    {
      "metadata": {
        "trusted": true
      },
      "cell_type": "code",
      "source": "f=open(\"민예.txt\",'w')\nfor i in range(1,11):  #1부터 10까지 i에 대입\n    data=\"%d번째 줄입니다.\\n\" %i\n    f.write(data)  #data를 파일 f에 써라\nf.close()",
      "execution_count": 18,
      "outputs": []
    },
    {
      "metadata": {},
      "cell_type": "markdown",
      "source": "### 3. 파일을 읽기 모드로 열어 읽는 방법"
    },
    {
      "metadata": {},
      "cell_type": "markdown",
      "source": "##### 1) readline()함수 이용 - 파일의 첫 번째 줄을 읽어 출력"
    },
    {
      "metadata": {
        "trusted": true
      },
      "cell_type": "code",
      "source": "f=open(\"민예.txt\",'r')\nline=f.readline()\nprint(line)\nf.close()",
      "execution_count": 11,
      "outputs": [
        {
          "output_type": "stream",
          "text": "1번째 줄입니다.\n\n",
          "name": "stdout"
        }
      ]
    },
    {
      "metadata": {},
      "cell_type": "markdown",
      "source": "##### 2) readlines()함수 이용 - 각각의 줄을 요소로 갖는 리스트로 리턴"
    },
    {
      "metadata": {
        "trusted": true
      },
      "cell_type": "code",
      "source": "f=open(\"민예.txt\",'r')\nlines=f.readlines()\nprint(lines)\nf.close()",
      "execution_count": 15,
      "outputs": [
        {
          "output_type": "stream",
          "text": "['1번째 줄입니다.\\n', '2번째 줄입니다.\\n', '3번째 줄입니다.\\n', '4번째 줄입니다.\\n', '5번째 줄입니다.\\n', '6번째 줄입니다.\\n', '7번째 줄입니다.\\n', '8번째 줄입니다.\\n', '9번째 줄입니다.\\n', '10번째 줄입니다.\\n']\n",
          "name": "stdout"
        }
      ]
    },
    {
      "metadata": {
        "trusted": true
      },
      "cell_type": "code",
      "source": "f=open(\"민예.txt\",'r')\nlines=f.readlines()\nfor line in lines:\n    print(line)\nf.close()",
      "execution_count": 12,
      "outputs": [
        {
          "output_type": "stream",
          "text": "1번째 줄입니다.\n\n2번째 줄입니다.\n\n3번째 줄입니다.\n\n4번째 줄입니다.\n\n5번째 줄입니다.\n\n6번째 줄입니다.\n\n7번째 줄입니다.\n\n8번째 줄입니다.\n\n9번째 줄입니다.\n\n10번째 줄입니다.\n\n",
          "name": "stdout"
        }
      ]
    },
    {
      "metadata": {},
      "cell_type": "markdown",
      "source": "##### 3) read()함수 이용 - 파일의 내용 전체를 문자열로 리턴"
    },
    {
      "metadata": {
        "trusted": true
      },
      "cell_type": "code",
      "source": "f=open(\"민예.txt\",'r')\ndata=f.read() # data는 파일의 전체 내용\nprint(data)\nf.close()",
      "execution_count": 13,
      "outputs": [
        {
          "output_type": "stream",
          "text": "1번째 줄입니다.\n2번째 줄입니다.\n3번째 줄입니다.\n4번째 줄입니다.\n5번째 줄입니다.\n6번째 줄입니다.\n7번째 줄입니다.\n8번째 줄입니다.\n9번째 줄입니다.\n10번째 줄입니다.\n\n",
          "name": "stdout"
        }
      ]
    },
    {
      "metadata": {},
      "cell_type": "markdown",
      "source": "### 4. 파일을 추가모드로 열어 새로운 내용 추가하기"
    },
    {
      "metadata": {
        "trusted": true
      },
      "cell_type": "code",
      "source": "f=open(\"민예.txt\",'a')\nfor i in range(11,20):\n    data=\"%d번째 줄입니다.\\n\"%i\n    f.write(data)\nf.close()",
      "execution_count": 16,
      "outputs": []
    },
    {
      "metadata": {},
      "cell_type": "markdown",
      "source": "## 파일 읽고 쓰기 예제"
    },
    {
      "metadata": {},
      "cell_type": "markdown",
      "source": "### 75\\n 80\\n 65\\n의 sample.txt파일을 만들고, 이 파일의 숫자값을 읽어 총합을 result.txt라는 파일에 쓰는 프로그램을 작성하라"
    },
    {
      "metadata": {
        "trusted": true
      },
      "cell_type": "code",
      "source": "f=open(\"sample.txt\",'w')\ndata=\"75\\n80\\n65\\n\"\nf.write(data)\nf.close()",
      "execution_count": 19,
      "outputs": []
    },
    {
      "metadata": {
        "trusted": true
      },
      "cell_type": "code",
      "source": "f=open(\"sample.txt\",'r')\nlines=f.readlines() #read를 안해준 이유 \\n까지 읽어서 더해줄때 오류뜸\nprint(lines)\nf.close()",
      "execution_count": 51,
      "outputs": [
        {
          "output_type": "stream",
          "text": "['75\\n', '80\\n', '65\\n']\n",
          "name": "stdout"
        }
      ]
    },
    {
      "metadata": {
        "trusted": true
      },
      "cell_type": "code",
      "source": "total=0\nfor line in lines:\n    score=int(line) #문자열을 정수로 바꿔줌 int()\n    total+=score\nprint(total)",
      "execution_count": 52,
      "outputs": [
        {
          "output_type": "stream",
          "text": "220\n",
          "name": "stdout"
        }
      ]
    },
    {
      "metadata": {
        "trusted": true
      },
      "cell_type": "code",
      "source": "f=open(\"result.txt\",'w')\nf.write(str(total)) # 숫자 값을 문자열로 바꿔줌 str()\nf.close()",
      "execution_count": 54,
      "outputs": []
    },
    {
      "metadata": {
        "trusted": true
      },
      "cell_type": "code",
      "source": "",
      "execution_count": null,
      "outputs": []
    }
  ],
  "metadata": {
    "kernelspec": {
      "name": "python36",
      "display_name": "Python 3.6",
      "language": "python"
    },
    "language_info": {
      "mimetype": "text/x-python",
      "nbconvert_exporter": "python",
      "name": "python",
      "pygments_lexer": "ipython3",
      "version": "3.6.6",
      "file_extension": ".py",
      "codemirror_mode": {
        "version": 3,
        "name": "ipython"
      }
    }
  },
  "nbformat": 4,
  "nbformat_minor": 2
}