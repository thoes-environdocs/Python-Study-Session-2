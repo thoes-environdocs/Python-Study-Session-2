{
  "cells": [
    {
      "metadata": {
        "trusted": true
      },
      "cell_type": "code",
      "source": "#1\n\ndef summation(a, b):\n    value = sum(list(range(a, b+1)))\n    return value\n",
      "execution_count": 4,
      "outputs": []
    },
    {
      "metadata": {
        "trusted": true
      },
      "cell_type": "code",
      "source": "\n\n#2\n\ndef forwarding(list_data):\n    if len(list_data) == 0 :\n        return(\"The length of list is 0\")\n    elif len(list_data) == 1:\n        return list_data\n    elif len(list_data) > 1:\n        new_list = [list_data[-1]] + list_data[:-1]\n        return new_list\n",
      "execution_count": 5,
      "outputs": []
    },
    {
      "metadata": {
        "trusted": true
      },
      "cell_type": "code",
      "source": "\n\n#3.1\n## 리스트에서 요소가 1인 것의 개수\ndef counting(number, list_data):\n    count = 0\n    for i in range(len(list_data)):\n        if list_data[i] == number:\n            count +=1\n    return count\n\n# 3.2\ndef counting_element(what_number ,list_data):\n    if what_number not in list_data:\n        return print(\"no number in list\")\n    \n    elif what_number in list_data:\n        count_ = []\n        import numpy as np\n        number_list = list(set(list_data))\n        number_list.sort()\n\n        for i in range(len(number_list)):\n            count_.append(counting(number_list[i], list_data))\n\n        ## making tuple\n        tuple_list = []\n        for i in range(len(count_)):\n            tuple_list.append((number_list[i], count_[i]))\n\n        for j, content in enumerate(tuple_list):\n            if content[0] == what_number:\n                return tuple_list[j]\n",
      "execution_count": 6,
      "outputs": []
    },
    {
      "metadata": {
        "trusted": true
      },
      "cell_type": "code",
      "source": "\n\n## develop for 4\n##list_data =[6, 10, 5]\n##list_data.sort()\n##length = len(list_data)\n##string_data = [ str(i) for i in list_data ]\n##\n##### 서로 바꾸었을 때 큰 것의 개수 \n##count_all = []\n##for i in range(length):\n##    count = 0\n##    for j in range(length):\n##        if int(string_data[i] + string_data[j]) > int(string_data[j] + string_data[i]):\n##            count += 1\n##\n##    count_all.append(count)\n##\n##### count_all을\n##tuple_data = []\n##for i in range(length):\n##    t_data = (string_data[i], count_all[i])\n##    tuple_data.append(t_data)\n##\n##tuple_data.sort(key = lambda x : x[1], reverse = True)\n##\n##k = ''\n##for i in range(length):\n##    k += tuple_data[i][0]\n\n# 4. \ndef solution(list_data):\n    list_data.sort()\n    length = len(list_data)\n    string_data = [ str(i) for i in list_data ]\n\n    ### 서로 바꾸었을 때 큰 것의 개수 \n    count_all = []\n    for i in range(length):\n        count = 0\n        for j in range(length):\n            if int(string_data[i] + string_data[j]) > int(string_data[j] + string_data[i]):\n                count += 1\n        count_all.append(count)\n\n    ### count_all을\n    tuple_data = []\n    for i in range(length):\n        t_data = (string_data[i], count_all[i])\n        tuple_data.append(t_data)\n\n    tuple_data.sort(key = lambda x : x[1], reverse = True)\n\n    k = ''\n    for i in range(length):\n        k += tuple_data[i][0]\n\n\n    return k\n\n\n##if __name__ == '__main__':\n##    list_data =[3, 30, 34, 5, 9]\n##    print(solution(list_data))\n\n",
      "execution_count": 7,
      "outputs": []
    },
    {
      "metadata": {
        "trusted": true
      },
      "cell_type": "code",
      "source": "",
      "execution_count": null,
      "outputs": []
    },
    {
      "metadata": {
        "trusted": true
      },
      "cell_type": "code",
      "source": "",
      "execution_count": null,
      "outputs": []
    },
    {
      "metadata": {
        "trusted": true
      },
      "cell_type": "code",
      "source": "",
      "execution_count": null,
      "outputs": []
    }
  ],
  "metadata": {
    "kernelspec": {
      "name": "python36",
      "display_name": "Python 3.6",
      "language": "python"
    },
    "language_info": {
      "mimetype": "text/x-python",
      "nbconvert_exporter": "python",
      "name": "python",
      "pygments_lexer": "ipython3",
      "version": "3.6.6",
      "file_extension": ".py",
      "codemirror_mode": {
        "version": 3,
        "name": "ipython"
      }
    }
  },
  "nbformat": 4,
  "nbformat_minor": 2
}